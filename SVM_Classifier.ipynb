{
 "cells": [
  {
   "cell_type": "code",
   "execution_count": 1,
   "metadata": {
    "collapsed": true
   },
   "outputs": [],
   "source": [
    "import numpy as np\n",
    "from sklearn import svm\n",
    "import tensorflow as tf\n",
    "from sklearn.preprocessing import MinMaxScaler\n",
    "from sklearn.model_selection import train_test_split\n",
    "from sklearn import metrics\n",
    "from sklearn.model_selection import KFold\n",
    "import matplotlib.pyplot as plt\n",
    "import joblib\n",
    "import json"
   ]
  },
  {
   "cell_type": "code",
   "execution_count": 2,
   "outputs": [],
   "source": [
    "JSON_PATH = 'myData.json'"
   ],
   "metadata": {
    "collapsed": false
   }
  },
  {
   "cell_type": "code",
   "execution_count": 3,
   "outputs": [],
   "source": [
    "def load_data(json_path):\n",
    "    with open(json_path, 'r') as dataset:\n",
    "        data_str = dataset.read()\n",
    "    data = json.loads(data_str)\n",
    "    return data['mapping'], data['mfcc'], data['labels']"
   ],
   "metadata": {
    "collapsed": false
   }
  },
  {
   "cell_type": "code",
   "execution_count": 4,
   "outputs": [],
   "source": [
    "def test_model(model, X, y):\n",
    "    kf = KFold(n_splits=10, shuffle=True)\n",
    "    X = np.array(X[500:])\n",
    "    y= np.array(y[500:])\n",
    "    for train_index, test_index in kf.split(X):\n",
    "\n",
    "        # split data into train, test and validation\n",
    "        X_train, X_test = X[train_index], X[test_index]\n",
    "        y_train, y_test = y[train_index], y[test_index]\n",
    "        X_train, X_validation, y_train, y_validation = train_test_split(X_train, y_train, test_size=0.25)\n",
    "\n",
    "        # train the model\n",
    "        train_model = model\n",
    "        train_model.fit(X_train, y_train)\n",
    "\n",
    "        # predict values\n",
    "        y_validation_pred = train_model.predict(X_validation)\n",
    "        y_test_pred = train_model.predict(X_test)\n",
    "\n",
    "        # calculate loss\n",
    "        mse_test = metrics.mean_squared_error(y_test, y_test_pred)\n",
    "        mse_validation = metrics.mean_squared_error(y_validation, y_validation_pred)\n",
    "\n",
    "        # calculate metrics\n",
    "        acc_test = metrics.accuracy_score(y_test, y_test_pred)\n",
    "        acc_validation = metrics.accuracy_score(y_validation, y_validation_pred)\n",
    "        precision_test = metrics.precision_score(y_test, y_test_pred, average='micro')\n",
    "        precision_validation = metrics.precision_score(y_validation, y_validation_pred, average='micro')\n",
    "\n",
    "        # print metrics\n",
    "        print(f'Accuracy on test: {acc_test}, Accuracy on validation: {acc_validation} \\n'\n",
    "              f'Precision on test: {precision_test}, Precision on validation: {precision_validation} \\n'\n",
    "              f'Loss on test: {mse_test}, Loss on validation: {mse_validation}\\n')\n",
    "\n",
    "    # folds = range(1, kf.get_n_splits() + 1)\n",
    "    # plt.plot(folds, precision_test_lst, 'o-', color='green', label='train')\n",
    "    # plt.plot(folds, precision_validation_lst, 'o-', color='red', label='test')\n",
    "    # plt.legend()\n",
    "    # plt.grid()\n",
    "    # plt.xlabel('Number of fold')\n",
    "    # plt.ylabel('Mean Squared Error')\n",
    "    # plt.show()"
   ],
   "metadata": {
    "collapsed": false
   }
  },
  {
   "cell_type": "code",
   "execution_count": 5,
   "outputs": [],
   "source": [
    "_, inputs, targets = load_data(JSON_PATH)"
   ],
   "metadata": {
    "collapsed": false
   }
  },
  {
   "cell_type": "code",
   "execution_count": 6,
   "outputs": [],
   "source": [
    "def main(inputs, targets, kernel='linear'):\n",
    "    model = svm.SVC(kernel=kernel, C=2)\n",
    "    test_model(model, inputs, targets)"
   ],
   "metadata": {
    "collapsed": false
   }
  },
  {
   "cell_type": "code",
   "execution_count": 7,
   "outputs": [],
   "source": [
    "def save_model(model):\n",
    "    svc = model\n",
    "    joblib.dump(svc, 'last_svc.model')"
   ],
   "metadata": {
    "collapsed": false
   }
  },
  {
   "cell_type": "code",
   "execution_count": 8,
   "outputs": [
    {
     "name": "stdout",
     "output_type": "stream",
     "text": [
      "Accuracy on test: 0.844, Accuracy on validation: 0.8401420959147424 \n",
      "Precision on test: 0.844, Precision on validation: 0.8401420959147424 \n",
      "Loss on test: 0.732, Loss on validation: 0.8046181172291297\n",
      "\n",
      "Accuracy on test: 0.804, Accuracy on validation: 0.8294849023090586 \n",
      "Precision on test: 0.804, Precision on validation: 0.8294849023090586 \n",
      "Loss on test: 0.752, Loss on validation: 0.8738898756660746\n",
      "\n",
      "Accuracy on test: 0.828, Accuracy on validation: 0.8152753108348135 \n",
      "Precision on test: 0.828, Precision on validation: 0.8152753108348135 \n",
      "Loss on test: 0.888, Loss on validation: 1.1225577264653641\n",
      "\n",
      "Accuracy on test: 0.852, Accuracy on validation: 0.8170515097690941 \n",
      "Precision on test: 0.852, Precision on validation: 0.8170515097690941 \n",
      "Loss on test: 0.832, Loss on validation: 1.0657193605683837\n",
      "\n",
      "Accuracy on test: 0.82, Accuracy on validation: 0.822380106571936 \n",
      "Precision on test: 0.82, Precision on validation: 0.822380106571936 \n",
      "Loss on test: 1.0, Loss on validation: 0.8507992895204263\n",
      "\n",
      "Accuracy on test: 0.848, Accuracy on validation: 0.8134991119005328 \n",
      "Precision on test: 0.848, Precision on validation: 0.8134991119005328 \n",
      "Loss on test: 0.952, Loss on validation: 0.9289520426287744\n",
      "\n",
      "Accuracy on test: 0.78, Accuracy on validation: 0.8294849023090586 \n",
      "Precision on test: 0.78, Precision on validation: 0.8294849023090586 \n",
      "Loss on test: 1.276, Loss on validation: 0.8152753108348135\n",
      "\n",
      "Accuracy on test: 0.784, Accuracy on validation: 0.7850799289520426 \n",
      "Precision on test: 0.784, Precision on validation: 0.7850799289520426 \n",
      "Loss on test: 1.148, Loss on validation: 0.9378330373001776\n",
      "\n",
      "Accuracy on test: 0.804, Accuracy on validation: 0.7957371225577264 \n",
      "Precision on test: 0.804, Precision on validation: 0.7957371225577264 \n",
      "Loss on test: 1.172, Loss on validation: 0.91651865008881\n",
      "\n",
      "Accuracy on test: 0.824, Accuracy on validation: 0.8170515097690941 \n",
      "Precision on test: 0.824, Precision on validation: 0.8170515097690941 \n",
      "Loss on test: 0.804, Loss on validation: 0.8685612788632326\n",
      "\n"
     ]
    }
   ],
   "source": [
    "main(inputs, targets)"
   ],
   "metadata": {
    "collapsed": false
   }
  }
 ],
 "metadata": {
  "kernelspec": {
   "display_name": "Python 3",
   "language": "python",
   "name": "python3"
  },
  "language_info": {
   "codemirror_mode": {
    "name": "ipython",
    "version": 2
   },
   "file_extension": ".py",
   "mimetype": "text/x-python",
   "name": "python",
   "nbconvert_exporter": "python",
   "pygments_lexer": "ipython2",
   "version": "2.7.6"
  }
 },
 "nbformat": 4,
 "nbformat_minor": 0
}
