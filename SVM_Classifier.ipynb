{
 "cells": [
  {
   "cell_type": "code",
   "execution_count": 17,
   "metadata": {
    "collapsed": true
   },
   "outputs": [],
   "source": [
    "import numpy as np\n",
    "from sklearn import svm\n",
    "import tensorflow as tf\n",
    "from sklearn.preprocessing import MinMaxScaler\n",
    "from sklearn.model_selection import train_test_split\n",
    "from sklearn import metrics\n",
    "from sklearn.model_selection import KFold\n",
    "import matplotlib.pyplot as plt\n",
    "import joblib\n",
    "import json"
   ]
  },
  {
   "cell_type": "code",
   "execution_count": 18,
   "outputs": [],
   "source": [
    "JSON_PATH = 'myData.json'"
   ],
   "metadata": {
    "collapsed": false
   }
  },
  {
   "cell_type": "code",
   "execution_count": 19,
   "outputs": [],
   "source": [
    "def load_data(json_path):\n",
    "    with open(json_path, 'r') as dataset:\n",
    "        data_str = dataset.read()\n",
    "    data = json.loads(data_str)\n",
    "    return data['mapping'], data['mfcc'], data['labels']"
   ],
   "metadata": {
    "collapsed": false
   }
  },
  {
   "cell_type": "code",
   "execution_count": 20,
   "outputs": [],
   "source": [
    "def test_model(model, X, y):\n",
    "    kf = KFold(n_splits=10, shuffle=True)\n",
    "    X = np.array(X[500:])\n",
    "    y= np.array(y[500:])\n",
    "    for train_index, test_index in kf.split(X):\n",
    "        X_train, X_test = X[train_index], X[test_index]\n",
    "        y_train, y_test = y[train_index], y[test_index]\n",
    "        X_train, X_validation, y_train, y_validation = train_test_split(X_train, y_train, test_size=0.25)\n",
    "        train_model = model\n",
    "        train_model.fit(X_train, y_train)\n",
    "        y_validation_pred = train_model.predict(X_validation)\n",
    "        y_train_pred = train_model.predict(X_train)\n",
    "        y_test_pred = train_model.predict(X_test)\n",
    "        mse_test = metrics.mean_squared_error(y_test, y_test_pred)\n",
    "        mse_validation = metrics.mean_squared_error(y_validation, y_validation_pred)\n",
    "        acc_test = metrics.accuracy_score(y_test, y_test_pred)\n",
    "        acc_validation = metrics.accuracy_score(y_validation, y_validation_pred)\n",
    "        precision_test = metrics.precision_score(y_test, y_test_pred, average='samples')\n",
    "        precision_validation = metrics.precision_score(y_test, y_test_pred, average='samples')\n",
    "        print(f'Accuracy on test: {acc_test}, Accuracy on validation: {acc_validation} \\n'\n",
    "              f'Precision on test: {precision_test}, Precision on validation: {precision_validation} \\n'\n",
    "              f'Loss on test: {mse_test}, Loss on validation: {mse_validation}\\n')\n",
    "\n",
    "    # folds = range(1, kf.get_n_splits() + 1)\n",
    "    # plt.plot(folds, precision_test_lst, 'o-', color='green', label='train')\n",
    "    # plt.plot(folds, precision_validation_lst, 'o-', color='red', label='test')\n",
    "    # plt.legend()\n",
    "    # plt.grid()\n",
    "    # plt.xlabel('Number of fold')\n",
    "    # plt.ylabel('Mean Squared Error')\n",
    "    # plt.show()"
   ],
   "metadata": {
    "collapsed": false
   }
  },
  {
   "cell_type": "code",
   "execution_count": 21,
   "outputs": [],
   "source": [
    "_, inputs, targets = load_data(JSON_PATH)"
   ],
   "metadata": {
    "collapsed": false
   }
  },
  {
   "cell_type": "code",
   "execution_count": 22,
   "outputs": [],
   "source": [
    "def main(inputs, targets, kernel='linear'):\n",
    "    model = svm.SVC(kernel=kernel, C=2)\n",
    "    test_model(model, inputs, targets)"
   ],
   "metadata": {
    "collapsed": false
   }
  },
  {
   "cell_type": "code",
   "execution_count": 23,
   "outputs": [],
   "source": [
    "def save_model(model):\n",
    "    svc = model\n",
    "    joblib.dump(svc, 'last_svc.model')"
   ],
   "metadata": {
    "collapsed": false
   }
  },
  {
   "cell_type": "code",
   "execution_count": 24,
   "outputs": [
    {
     "ename": "ValueError",
     "evalue": "Samplewise metrics are not available outside of multilabel classification.",
     "output_type": "error",
     "traceback": [
      "\u001B[1;31m---------------------------------------------------------------------------\u001B[0m",
      "\u001B[1;31mValueError\u001B[0m                                Traceback (most recent call last)",
      "Cell \u001B[1;32mIn [24], line 1\u001B[0m\n\u001B[1;32m----> 1\u001B[0m \u001B[43mmain\u001B[49m\u001B[43m(\u001B[49m\u001B[43minputs\u001B[49m\u001B[43m,\u001B[49m\u001B[43m \u001B[49m\u001B[43mtargets\u001B[49m\u001B[43m)\u001B[49m\n",
      "Cell \u001B[1;32mIn [22], line 3\u001B[0m, in \u001B[0;36mmain\u001B[1;34m(inputs, targets, kernel)\u001B[0m\n\u001B[0;32m      1\u001B[0m \u001B[38;5;28;01mdef\u001B[39;00m \u001B[38;5;21mmain\u001B[39m(inputs, targets, kernel\u001B[38;5;241m=\u001B[39m\u001B[38;5;124m'\u001B[39m\u001B[38;5;124mlinear\u001B[39m\u001B[38;5;124m'\u001B[39m):\n\u001B[0;32m      2\u001B[0m     model \u001B[38;5;241m=\u001B[39m svm\u001B[38;5;241m.\u001B[39mSVC(kernel\u001B[38;5;241m=\u001B[39mkernel, C\u001B[38;5;241m=\u001B[39m\u001B[38;5;241m2\u001B[39m)\n\u001B[1;32m----> 3\u001B[0m     \u001B[43mtest_model\u001B[49m\u001B[43m(\u001B[49m\u001B[43mmodel\u001B[49m\u001B[43m,\u001B[49m\u001B[43m \u001B[49m\u001B[43minputs\u001B[49m\u001B[43m,\u001B[49m\u001B[43m \u001B[49m\u001B[43mtargets\u001B[49m\u001B[43m)\u001B[49m\n",
      "Cell \u001B[1;32mIn [20], line 18\u001B[0m, in \u001B[0;36mtest_model\u001B[1;34m(model, X, y)\u001B[0m\n\u001B[0;32m     16\u001B[0m acc_test \u001B[38;5;241m=\u001B[39m metrics\u001B[38;5;241m.\u001B[39maccuracy_score(y_test, y_test_pred)\n\u001B[0;32m     17\u001B[0m acc_validation \u001B[38;5;241m=\u001B[39m metrics\u001B[38;5;241m.\u001B[39maccuracy_score(y_validation, y_validation_pred)\n\u001B[1;32m---> 18\u001B[0m precision_test \u001B[38;5;241m=\u001B[39m \u001B[43mmetrics\u001B[49m\u001B[38;5;241;43m.\u001B[39;49m\u001B[43mprecision_score\u001B[49m\u001B[43m(\u001B[49m\u001B[43my_test\u001B[49m\u001B[43m,\u001B[49m\u001B[43m \u001B[49m\u001B[43my_test_pred\u001B[49m\u001B[43m,\u001B[49m\u001B[43m \u001B[49m\u001B[43maverage\u001B[49m\u001B[38;5;241;43m=\u001B[39;49m\u001B[38;5;124;43m'\u001B[39;49m\u001B[38;5;124;43msamples\u001B[39;49m\u001B[38;5;124;43m'\u001B[39;49m\u001B[43m)\u001B[49m\n\u001B[0;32m     19\u001B[0m precision_validation \u001B[38;5;241m=\u001B[39m metrics\u001B[38;5;241m.\u001B[39mprecision_score(y_test, y_test_pred, average\u001B[38;5;241m=\u001B[39m\u001B[38;5;124m'\u001B[39m\u001B[38;5;124msamples\u001B[39m\u001B[38;5;124m'\u001B[39m)\n\u001B[0;32m     20\u001B[0m \u001B[38;5;28mprint\u001B[39m(\u001B[38;5;124mf\u001B[39m\u001B[38;5;124m'\u001B[39m\u001B[38;5;124mAccuracy on test: \u001B[39m\u001B[38;5;132;01m{\u001B[39;00macc_test\u001B[38;5;132;01m}\u001B[39;00m\u001B[38;5;124m, Accuracy on validation: \u001B[39m\u001B[38;5;132;01m{\u001B[39;00macc_validation\u001B[38;5;132;01m}\u001B[39;00m\u001B[38;5;124m \u001B[39m\u001B[38;5;130;01m\\n\u001B[39;00m\u001B[38;5;124m'\u001B[39m\n\u001B[0;32m     21\u001B[0m       \u001B[38;5;124mf\u001B[39m\u001B[38;5;124m'\u001B[39m\u001B[38;5;124mPrecision on test: \u001B[39m\u001B[38;5;132;01m{\u001B[39;00mprecision_test\u001B[38;5;132;01m}\u001B[39;00m\u001B[38;5;124m, Precision on validation: \u001B[39m\u001B[38;5;132;01m{\u001B[39;00mprecision_validation\u001B[38;5;132;01m}\u001B[39;00m\u001B[38;5;124m \u001B[39m\u001B[38;5;130;01m\\n\u001B[39;00m\u001B[38;5;124m'\u001B[39m\n\u001B[0;32m     22\u001B[0m       \u001B[38;5;124mf\u001B[39m\u001B[38;5;124m'\u001B[39m\u001B[38;5;124mLoss on test: \u001B[39m\u001B[38;5;132;01m{\u001B[39;00mmse_test\u001B[38;5;132;01m}\u001B[39;00m\u001B[38;5;124m, Loss on validation: \u001B[39m\u001B[38;5;132;01m{\u001B[39;00mmse_validation\u001B[38;5;132;01m}\u001B[39;00m\u001B[38;5;130;01m\\n\u001B[39;00m\u001B[38;5;124m'\u001B[39m)\n",
      "File \u001B[1;32mC:\\Anaconda\\envs\\mlenv\\lib\\site-packages\\sklearn\\metrics\\_classification.py:1776\u001B[0m, in \u001B[0;36mprecision_score\u001B[1;34m(y_true, y_pred, labels, pos_label, average, sample_weight, zero_division)\u001B[0m\n\u001B[0;32m   1647\u001B[0m \u001B[38;5;28;01mdef\u001B[39;00m \u001B[38;5;21mprecision_score\u001B[39m(\n\u001B[0;32m   1648\u001B[0m     y_true,\n\u001B[0;32m   1649\u001B[0m     y_pred,\n\u001B[1;32m   (...)\u001B[0m\n\u001B[0;32m   1655\u001B[0m     zero_division\u001B[38;5;241m=\u001B[39m\u001B[38;5;124m\"\u001B[39m\u001B[38;5;124mwarn\u001B[39m\u001B[38;5;124m\"\u001B[39m,\n\u001B[0;32m   1656\u001B[0m ):\n\u001B[0;32m   1657\u001B[0m     \u001B[38;5;124;03m\"\"\"Compute the precision.\u001B[39;00m\n\u001B[0;32m   1658\u001B[0m \n\u001B[0;32m   1659\u001B[0m \u001B[38;5;124;03m    The precision is the ratio ``tp / (tp + fp)`` where ``tp`` is the number of\u001B[39;00m\n\u001B[1;32m   (...)\u001B[0m\n\u001B[0;32m   1774\u001B[0m \u001B[38;5;124;03m    array([0.5, 1. , 1. ])\u001B[39;00m\n\u001B[0;32m   1775\u001B[0m \u001B[38;5;124;03m    \"\"\"\u001B[39;00m\n\u001B[1;32m-> 1776\u001B[0m     p, _, _, _ \u001B[38;5;241m=\u001B[39m \u001B[43mprecision_recall_fscore_support\u001B[49m\u001B[43m(\u001B[49m\n\u001B[0;32m   1777\u001B[0m \u001B[43m        \u001B[49m\u001B[43my_true\u001B[49m\u001B[43m,\u001B[49m\n\u001B[0;32m   1778\u001B[0m \u001B[43m        \u001B[49m\u001B[43my_pred\u001B[49m\u001B[43m,\u001B[49m\n\u001B[0;32m   1779\u001B[0m \u001B[43m        \u001B[49m\u001B[43mlabels\u001B[49m\u001B[38;5;241;43m=\u001B[39;49m\u001B[43mlabels\u001B[49m\u001B[43m,\u001B[49m\n\u001B[0;32m   1780\u001B[0m \u001B[43m        \u001B[49m\u001B[43mpos_label\u001B[49m\u001B[38;5;241;43m=\u001B[39;49m\u001B[43mpos_label\u001B[49m\u001B[43m,\u001B[49m\n\u001B[0;32m   1781\u001B[0m \u001B[43m        \u001B[49m\u001B[43maverage\u001B[49m\u001B[38;5;241;43m=\u001B[39;49m\u001B[43maverage\u001B[49m\u001B[43m,\u001B[49m\n\u001B[0;32m   1782\u001B[0m \u001B[43m        \u001B[49m\u001B[43mwarn_for\u001B[49m\u001B[38;5;241;43m=\u001B[39;49m\u001B[43m(\u001B[49m\u001B[38;5;124;43m\"\u001B[39;49m\u001B[38;5;124;43mprecision\u001B[39;49m\u001B[38;5;124;43m\"\u001B[39;49m\u001B[43m,\u001B[49m\u001B[43m)\u001B[49m\u001B[43m,\u001B[49m\n\u001B[0;32m   1783\u001B[0m \u001B[43m        \u001B[49m\u001B[43msample_weight\u001B[49m\u001B[38;5;241;43m=\u001B[39;49m\u001B[43msample_weight\u001B[49m\u001B[43m,\u001B[49m\n\u001B[0;32m   1784\u001B[0m \u001B[43m        \u001B[49m\u001B[43mzero_division\u001B[49m\u001B[38;5;241;43m=\u001B[39;49m\u001B[43mzero_division\u001B[49m\u001B[43m,\u001B[49m\n\u001B[0;32m   1785\u001B[0m \u001B[43m    \u001B[49m\u001B[43m)\u001B[49m\n\u001B[0;32m   1786\u001B[0m     \u001B[38;5;28;01mreturn\u001B[39;00m p\n",
      "File \u001B[1;32mC:\\Anaconda\\envs\\mlenv\\lib\\site-packages\\sklearn\\metrics\\_classification.py:1567\u001B[0m, in \u001B[0;36mprecision_recall_fscore_support\u001B[1;34m(y_true, y_pred, beta, labels, pos_label, average, warn_for, sample_weight, zero_division)\u001B[0m\n\u001B[0;32m   1565\u001B[0m \u001B[38;5;66;03m# Calculate tp_sum, pred_sum, true_sum ###\u001B[39;00m\n\u001B[0;32m   1566\u001B[0m samplewise \u001B[38;5;241m=\u001B[39m average \u001B[38;5;241m==\u001B[39m \u001B[38;5;124m\"\u001B[39m\u001B[38;5;124msamples\u001B[39m\u001B[38;5;124m\"\u001B[39m\n\u001B[1;32m-> 1567\u001B[0m MCM \u001B[38;5;241m=\u001B[39m \u001B[43mmultilabel_confusion_matrix\u001B[49m\u001B[43m(\u001B[49m\n\u001B[0;32m   1568\u001B[0m \u001B[43m    \u001B[49m\u001B[43my_true\u001B[49m\u001B[43m,\u001B[49m\n\u001B[0;32m   1569\u001B[0m \u001B[43m    \u001B[49m\u001B[43my_pred\u001B[49m\u001B[43m,\u001B[49m\n\u001B[0;32m   1570\u001B[0m \u001B[43m    \u001B[49m\u001B[43msample_weight\u001B[49m\u001B[38;5;241;43m=\u001B[39;49m\u001B[43msample_weight\u001B[49m\u001B[43m,\u001B[49m\n\u001B[0;32m   1571\u001B[0m \u001B[43m    \u001B[49m\u001B[43mlabels\u001B[49m\u001B[38;5;241;43m=\u001B[39;49m\u001B[43mlabels\u001B[49m\u001B[43m,\u001B[49m\n\u001B[0;32m   1572\u001B[0m \u001B[43m    \u001B[49m\u001B[43msamplewise\u001B[49m\u001B[38;5;241;43m=\u001B[39;49m\u001B[43msamplewise\u001B[49m\u001B[43m,\u001B[49m\n\u001B[0;32m   1573\u001B[0m \u001B[43m\u001B[49m\u001B[43m)\u001B[49m\n\u001B[0;32m   1574\u001B[0m tp_sum \u001B[38;5;241m=\u001B[39m MCM[:, \u001B[38;5;241m1\u001B[39m, \u001B[38;5;241m1\u001B[39m]\n\u001B[0;32m   1575\u001B[0m pred_sum \u001B[38;5;241m=\u001B[39m tp_sum \u001B[38;5;241m+\u001B[39m MCM[:, \u001B[38;5;241m0\u001B[39m, \u001B[38;5;241m1\u001B[39m]\n",
      "File \u001B[1;32mC:\\Anaconda\\envs\\mlenv\\lib\\site-packages\\sklearn\\metrics\\_classification.py:499\u001B[0m, in \u001B[0;36mmultilabel_confusion_matrix\u001B[1;34m(y_true, y_pred, sample_weight, labels, samplewise)\u001B[0m\n\u001B[0;32m    497\u001B[0m \u001B[38;5;28;01mif\u001B[39;00m y_true\u001B[38;5;241m.\u001B[39mndim \u001B[38;5;241m==\u001B[39m \u001B[38;5;241m1\u001B[39m:\n\u001B[0;32m    498\u001B[0m     \u001B[38;5;28;01mif\u001B[39;00m samplewise:\n\u001B[1;32m--> 499\u001B[0m         \u001B[38;5;28;01mraise\u001B[39;00m \u001B[38;5;167;01mValueError\u001B[39;00m(\n\u001B[0;32m    500\u001B[0m             \u001B[38;5;124m\"\u001B[39m\u001B[38;5;124mSamplewise metrics are not available outside of \u001B[39m\u001B[38;5;124m\"\u001B[39m\n\u001B[0;32m    501\u001B[0m             \u001B[38;5;124m\"\u001B[39m\u001B[38;5;124mmultilabel classification.\u001B[39m\u001B[38;5;124m\"\u001B[39m\n\u001B[0;32m    502\u001B[0m         )\n\u001B[0;32m    504\u001B[0m     le \u001B[38;5;241m=\u001B[39m LabelEncoder()\n\u001B[0;32m    505\u001B[0m     le\u001B[38;5;241m.\u001B[39mfit(labels)\n",
      "\u001B[1;31mValueError\u001B[0m: Samplewise metrics are not available outside of multilabel classification."
     ]
    }
   ],
   "source": [
    "main(inputs, targets)"
   ],
   "metadata": {
    "collapsed": false
   }
  }
 ],
 "metadata": {
  "kernelspec": {
   "display_name": "Python 3",
   "language": "python",
   "name": "python3"
  },
  "language_info": {
   "codemirror_mode": {
    "name": "ipython",
    "version": 2
   },
   "file_extension": ".py",
   "mimetype": "text/x-python",
   "name": "python",
   "nbconvert_exporter": "python",
   "pygments_lexer": "ipython2",
   "version": "2.7.6"
  }
 },
 "nbformat": 4,
 "nbformat_minor": 0
}
